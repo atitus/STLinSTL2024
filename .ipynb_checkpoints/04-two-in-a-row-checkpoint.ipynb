{
 "cells": [
  {
   "cell_type": "code",
   "execution_count": 1,
   "metadata": {},
   "outputs": [],
   "source": [
    "import numpy as np\n",
    "import matplotlib.pyplot as plt\n",
    "import random as rand"
   ]
  },
  {
   "cell_type": "markdown",
   "metadata": {},
   "source": [
    "# Winning Two in a Row\n"
   ]
  },
  {
   "cell_type": "markdown",
   "metadata": {},
   "source": [
    "Beth Harmon, the fictious character in the mini-series *Queen's Gambit* has agreed to a particular challenge. She will play two Russian players whom I will call A and C in three alternating games of chess that can be player A, then C, then A again (sequence $ACA$) or player C, then A, then C again (sequence $CAC$). Not only must she win 2 out of 3 games, she must also with two *in a row*.\n",
    "\n",
    "Player C is better than player A, and Beth figures that her probability of beating player A is 0.9, and her probability of beating player C is 0.8.\n",
    "\n",
    "The question is: **Should she choose to play them in the sequence $ACA$ or the sequence $CAC$?**"
   ]
  },
  {
   "cell_type": "markdown",
   "metadata": {},
   "source": [
    "## Prediction\n",
    "\n",
    "Which sequence do you think will give the higher probability of Beth winning two in a row? Explain the reasoning for your prediction."
   ]
  },
  {
   "cell_type": "markdown",
   "metadata": {},
   "source": [
    "## Solution\n",
    "\n",
    "I've written the function below to take a sequence (`ACA` or `CAC` as a string), and determine whether Beth wins two in a row. The function returns a 1 if Beth wins two in a row, and the function returns a 0 if Beth does not win two in a row. The variables `p` and `q` define the probability of beating player A and player C, respectively."
   ]
  },
  {
   "cell_type": "code",
   "execution_count": 4,
   "metadata": {},
   "outputs": [],
   "source": [
    "def sequence(s):\n",
    "    #s should be \"ACA\" or \"CAC\"\n",
    "    p = 0.9 #probability of beating A\n",
    "    q = 0.8 #probability of beating C\n",
    "    \n",
    "    result = 0 #the result is whether she wins two in a row or not\n",
    "        \n",
    "    if s == \"ACA\":\n",
    "        games = [] #store results of a single game as 0 or 1\n",
    "        # play player A\n",
    "        r = rand.random()\n",
    "        if r < p: #Beth wins\n",
    "            games.append(1)\n",
    "        else: #Beth loses\n",
    "            games.append(0)\n",
    "\n",
    "        # play player C\n",
    "        r = rand.random()\n",
    "        if r < q: #Beth wins\n",
    "            games.append(1)\n",
    "        else: #Beth loses\n",
    "            games.append(0)\n",
    "\n",
    "        # play player A\n",
    "        r = rand.random()\n",
    "        if r < p: #Beth wins\n",
    "            games.append(1)\n",
    "        else: #Beth loses\n",
    "            games.append(0)\n",
    "\n",
    "    if s == \"CAC\":\n",
    "        games = [] #store results of a single game as 0 or 1\n",
    "        # play player C\n",
    "        r = rand.random()\n",
    "        if r < q: #Beth wins\n",
    "            games.append(1)\n",
    "        else: #Beth loses\n",
    "            games.append(0)\n",
    "\n",
    "        # play player A\n",
    "        r = rand.random()\n",
    "        if r < p: #Beth wins\n",
    "            games.append(1)\n",
    "        else: #Beth loses\n",
    "            games.append(0)\n",
    "\n",
    "        # play player C\n",
    "        r = rand.random()\n",
    "        if r < q: #Beth wins\n",
    "            games.append(1)\n",
    "        else: #Beth loses\n",
    "            games.append(0)\n",
    "            \n",
    "    \n",
    "    #determine if Beth wins two games in a row\n",
    "    if games[0] == 1 and games[1] == 1:\n",
    "        result = 1\n",
    "    elif games[1] == 1 and games[2] == 1:\n",
    "        result = 1\n",
    "    else:\n",
    "        result = 0\n",
    "    \n",
    "    return result"
   ]
  },
  {
   "cell_type": "markdown",
   "metadata": {},
   "source": [
    "The progam below plays one sequence of three chess games and tells you (with a 1 or 0) whether Beth wins (1) or not (0). Run it to see how it works. Note that you can rerun this cell over and over to see if the result changes. Also, you can try the sequence `\"ACA\"` or the sequence `CAC`."
   ]
  },
  {
   "cell_type": "code",
   "execution_count": 11,
   "metadata": {},
   "outputs": [
    {
     "name": "stdout",
     "output_type": "stream",
     "text": [
      "outcome =  1\n"
     ]
    }
   ],
   "source": [
    "outcome = sequence(\"ACA\")\n",
    "print(\"outcome = \", outcome)"
   ]
  },
  {
   "cell_type": "markdown",
   "metadata": {},
   "source": [
    "Write a loop to answer the following question. What is the probability that Beth wins if she plays the sequence $ACA$?"
   ]
  },
  {
   "cell_type": "code",
   "execution_count": null,
   "metadata": {},
   "outputs": [],
   "source": []
  },
  {
   "cell_type": "markdown",
   "metadata": {},
   "source": [
    "Write a loop to answer the following question. What is the probability that Beth wins if she plays the sequence $CAC$?"
   ]
  },
  {
   "cell_type": "code",
   "execution_count": null,
   "metadata": {},
   "outputs": [],
   "source": []
  },
  {
   "cell_type": "markdown",
   "metadata": {},
   "source": [
    "If Beth wants to maximize her probability of winning, which sequence should she choose?"
   ]
  }
 ],
 "metadata": {
  "kernelspec": {
   "display_name": "Python 3 (ipykernel)",
   "language": "python",
   "name": "python3"
  },
  "language_info": {
   "codemirror_mode": {
    "name": "ipython",
    "version": 3
   },
   "file_extension": ".py",
   "mimetype": "text/x-python",
   "name": "python",
   "nbconvert_exporter": "python",
   "pygments_lexer": "ipython3",
   "version": "3.10.9"
  }
 },
 "nbformat": 4,
 "nbformat_minor": 4
}
