{
 "cells": [
  {
   "cell_type": "markdown",
   "metadata": {},
   "source": [
    "# To Foul or Not to Foul -- That is the Question\n"
   ]
  },
  {
   "cell_type": "markdown",
   "metadata": {},
   "source": [
    "# The Problem\n",
    "\n",
    "### Is it smart to foul at the end of a basketball game?\n",
    "\n",
    "In the 2005 Conference USA basketball tournament, Memphis was two points behind Louisville. At the buzzer, Memphis’s Darius Washington attempted a 3-pointer. He missed but was fouled so he went to the line for three free throws. Each made free throw is worth 1 point.\n",
    "\n"
   ]
  },
  {
   "cell_type": "markdown",
   "metadata": {},
   "source": [
    "## Exercise 1\n",
    "\n",
    "Darius Washington was a 72% free-throw shooter. Write a Monte Carlo simulation to find the probability that Memphis will win, lose or go into overtime. Note that in each \"experiment\" (i.e. iteration of a loop), you have to do three free-throws."
   ]
  },
  {
   "cell_type": "code",
   "execution_count": null,
   "metadata": {},
   "outputs": [],
   "source": []
  },
  {
   "cell_type": "markdown",
   "metadata": {},
   "source": [
    "## Exercise 2\n",
    "\n",
    "If Washington had not been fouled, he may have made the 3-pointer. If he is a 40% 3-point shooter, do you think Louisville was smart to foul? Why or why not?"
   ]
  },
  {
   "cell_type": "code",
   "execution_count": null,
   "metadata": {},
   "outputs": [],
   "source": []
  }
 ],
 "metadata": {
  "kernelspec": {
   "display_name": "Python 3 (ipykernel)",
   "language": "python",
   "name": "python3"
  },
  "language_info": {
   "codemirror_mode": {
    "name": "ipython",
    "version": 3
   },
   "file_extension": ".py",
   "mimetype": "text/x-python",
   "name": "python",
   "nbconvert_exporter": "python",
   "pygments_lexer": "ipython3",
   "version": "3.10.9"
  }
 },
 "nbformat": 4,
 "nbformat_minor": 4
}
