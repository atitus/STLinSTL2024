{
 "cells": [
  {
   "cell_type": "markdown",
   "metadata": {},
   "source": [
    "# To Foul or Not to Foul - Solution\n"
   ]
  },
  {
   "cell_type": "markdown",
   "metadata": {},
   "source": [
    "# The Problem\n",
    "\n",
    "### Is it smart to foul at the end of the basketball game?\n",
    "\n",
    "In the 2005 Conference USA basketball tournament, Memphis was two points behind Louisville. At the buzzer, Memphis’s Darius Washington attempted a 3-pointer. He missed but was fouled so he went to the line for three free throws. Each made free throw is worth 1 point.\n",
    "\n"
   ]
  },
  {
   "cell_type": "markdown",
   "metadata": {},
   "source": [
    "## Exercise 1\n",
    "\n",
    "Darius Washington was a 72% free-throw shooter. Write a Monte Carlo simulation to find the probability that Memphis will win, lose or go into overtime. Note that in each \"experiment\" (i.e. iteration of a loop), you have to do three free-throws."
   ]
  },
  {
   "cell_type": "code",
   "execution_count": 1,
   "metadata": {},
   "outputs": [],
   "source": [
    "import numpy as np\n",
    "import matplotlib.pyplot as plt\n",
    "from matplotlib import colors\n",
    "import random as rand"
   ]
  },
  {
   "cell_type": "code",
   "execution_count": 8,
   "metadata": {},
   "outputs": [
    {
     "name": "stdout",
     "output_type": "stream",
     "text": [
      "prob of Memphis winning =  37.383\n",
      "prob of overtime =  43.5154\n",
      "prob of Memphis losing =  19.101599999999998\n"
     ]
    }
   ],
   "source": [
    "N = 1000000\n",
    "FTpercentage = 0.72\n",
    "\n",
    "Nwin = 0\n",
    "Nlose = 0\n",
    "Novertime = 0\n",
    "\n",
    "for i in range(N):\n",
    "    Nmade = 0\n",
    "    s1 = rand.random()\n",
    "    if s1 < FTpercentage:\n",
    "        Nmade = Nmade + 1\n",
    "\n",
    "    s1 = rand.random()\n",
    "    if s1 < FTpercentage:\n",
    "        Nmade = Nmade + 1\n",
    "\n",
    "    s1 = rand.random()\n",
    "    if s1 < FTpercentage:\n",
    "        Nmade = Nmade + 1\n",
    "\n",
    "    if Nmade == 3:\n",
    "        Nwin = Nwin + 1\n",
    "    elif Nmade == 2:\n",
    "        Novertime = Novertime + 1\n",
    "    else:\n",
    "        Nlose = Nlose + 1\n",
    "\n",
    "pwin = Nwin/N*100\n",
    "plose = Nlose/N*100\n",
    "povertime = Novertime/N*100\n",
    "\n",
    "print(\"prob of Memphis winning in regulation = \", pwin)\n",
    "print(\"prob of overtime = \", povertime)\n",
    "print(\"prob of Memphis losing in regulation = \", plose)"
   ]
  },
  {
   "cell_type": "markdown",
   "metadata": {},
   "source": [
    "## Exercise 2\n",
    "\n",
    "If Washington had not been fouled, he may have made the 3-pointer. If he is a 40% 3-point shooter, do you think Louisville was smart to foul? Why or why not?"
   ]
  },
  {
   "cell_type": "markdown",
   "metadata": {},
   "source": [
    "The probability of Lousiville losing in regulation by a 3 point shot is 40%. The probability of Louisville losing *in regulation* after fouling is 37.4%. Since they are not guaranteed to win in overtime, the overall probality of losing will surely be greter than 37%. So fouling is probability a bad idea. But we don't know exactly how much greater unless we make some assumptions and simulate it.\n",
    "\n",
    "Let's assume that the probability of winning a game for each team in overtime is 50%. (After all, the two teams seem to be closely matched.)"
   ]
  },
  {
   "cell_type": "code",
   "execution_count": 11,
   "metadata": {},
   "outputs": [
    {
     "name": "stdout",
     "output_type": "stream",
     "text": [
      "prob of Memphis winning in regulation =  37.2952\n",
      "prob of overtime =  43.5412\n",
      "prob of Memphis losing in regulation =  19.1636\n",
      "prob of Memphis winning =  59.054700000000004\n",
      "prob of Memphis losing =  40.9453\n"
     ]
    }
   ],
   "source": [
    "N = 1000000\n",
    "FTpercentage = 0.72\n",
    "\n",
    "NwinFT = 0\n",
    "NloseFT = 0\n",
    "Novertime = 0\n",
    "\n",
    "NwinOT = 0\n",
    "NloseOT = 0\n",
    "\n",
    "for i in range(N):\n",
    "    Nmade = 0\n",
    "    s1 = rand.random()\n",
    "    if s1 < FTpercentage:\n",
    "        Nmade = Nmade + 1\n",
    "\n",
    "    s1 = rand.random()\n",
    "    if s1 < FTpercentage:\n",
    "        Nmade = Nmade + 1\n",
    "\n",
    "    s1 = rand.random()\n",
    "    if s1 < FTpercentage:\n",
    "        Nmade = Nmade + 1\n",
    "\n",
    "    if Nmade == 3:\n",
    "        NwinFT = NwinFT + 1\n",
    "    elif Nmade == 2:\n",
    "        Novertime = Novertime + 1\n",
    "        r = rand.random()\n",
    "        if r < 0.5:\n",
    "            NwinOT = NwinOT + 1\n",
    "        else:\n",
    "            NloseOT = NloseOT + 1\n",
    "    else:\n",
    "        NloseFT = NloseFT + 1\n",
    "\n",
    "pwinFT = NwinFT/N*100\n",
    "ploseFT = NloseFT/N*100\n",
    "povertime = Novertime/N*100\n",
    "\n",
    "Nwin = NwinFT + NwinOT\n",
    "Nlose = NloseFT + NloseOT\n",
    "pwin = Nwin/N * 100\n",
    "plose = Nlose/N * 100\n",
    "\n",
    "print(\"prob of Memphis winning in regulation = \", pwinFT)\n",
    "print(\"prob of overtime = \", povertime)\n",
    "print(\"prob of Memphis losing in regulation = \", ploseFT)\n",
    "\n",
    "print(\"prob of Memphis winning = \", pwin)\n",
    "print(\"prob of Memphis losing = \", plose)"
   ]
  },
  {
   "cell_type": "markdown",
   "metadata": {},
   "source": [
    "For Louisville, their probability of winning if Memphis shoots a 3 point shot is 60%. If Memphis shoots FTs, Louisville has a probability of winning of 41%.\n",
    "\n",
    "**Louisville should not have fouled.**"
   ]
  },
  {
   "cell_type": "code",
   "execution_count": null,
   "metadata": {},
   "outputs": [],
   "source": []
  }
 ],
 "metadata": {
  "kernelspec": {
   "display_name": "Python 3 (ipykernel)",
   "language": "python",
   "name": "python3"
  },
  "language_info": {
   "codemirror_mode": {
    "name": "ipython",
    "version": 3
   },
   "file_extension": ".py",
   "mimetype": "text/x-python",
   "name": "python",
   "nbconvert_exporter": "python",
   "pygments_lexer": "ipython3",
   "version": "3.10.9"
  }
 },
 "nbformat": 4,
 "nbformat_minor": 4
}
